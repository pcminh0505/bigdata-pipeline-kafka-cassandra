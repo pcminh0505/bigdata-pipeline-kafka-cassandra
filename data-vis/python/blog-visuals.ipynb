{
 "cells": [
  {
   "cell_type": "markdown",
   "metadata": {},
   "source": [
    "# Data Visualization Task\n",
    "This notebook contains some EDA actions on the collected data from 3 topic sources: weather, (fake) registered users, and cryptocurrency price (BTC & ETH). Please make sure you let the pipeline run for long enough time to have meaningful visualization"
   ]
  },
  {
   "cell_type": "code",
   "execution_count": null,
   "metadata": {},
   "outputs": [],
   "source": [
    "import pandas as pd\n",
    "import seaborn as sns\n",
    "import numpy as np\n",
    "import matplotlib.pyplot as plt\n",
    "from cassandrautils import *"
   ]
  },
  {
   "cell_type": "code",
   "execution_count": null,
   "metadata": {},
   "outputs": [],
   "source": [
    "faker = getFakerDF()\n",
    "binance = getBinanceDF()\n",
    "weather = getWeatherDF()"
   ]
  },
  {
   "cell_type": "code",
   "execution_count": null,
   "metadata": {},
   "outputs": [],
   "source": [
    "weather"
   ]
  },
  {
   "cell_type": "code",
   "execution_count": null,
   "metadata": {},
   "outputs": [],
   "source": [
    "binance"
   ]
  },
  {
   "cell_type": "code",
   "execution_count": null,
   "metadata": {},
   "outputs": [],
   "source": [
    "faker"
   ]
  },
  {
   "cell_type": "markdown",
   "metadata": {},
   "source": [
    "## Weather Analysis"
   ]
  },
  {
   "cell_type": "code",
   "execution_count": null,
   "metadata": {},
   "outputs": [],
   "source": [
    "weather.dtypes"
   ]
  },
  {
   "cell_type": "code",
   "execution_count": null,
   "metadata": {},
   "outputs": [],
   "source": [
    "# Convert Kelvin to Celsius\n",
    "weather[['feels_like','temp','temp_max','temp_min']] = weather[['feels_like','temp','temp_max','temp_min']].transform(lambda x: x - 273.15)\n",
    "weather"
   ]
  },
  {
   "cell_type": "code",
   "execution_count": null,
   "metadata": {},
   "outputs": [],
   "source": [
    "plt.figure(figsize=(15,5))\n",
    "sns.lineplot(data=weather, x=\"forecastdate\", y=\"temp\", hue=\"location\")\n",
    "plt.xlabel(\"Time\")\n",
    "plt.ylabel(\"Temperature (C)\")\n",
    "plt.title(\"Temperature among cities\")"
   ]
  },
  {
   "cell_type": "code",
   "execution_count": null,
   "metadata": {},
   "outputs": [],
   "source": [
    "plt.figure(figsize=(15,5))\n",
    "sns.lineplot(data=weather, x=\"forecastdate\", y=\"feels_like\", hue=\"location\")\n",
    "plt.xlabel(\"Time\")\n",
    "plt.ylabel(\"Temperature (C)\")\n",
    "plt.title(\"Feel Like Temperature among cities\")"
   ]
  },
  {
   "cell_type": "code",
   "execution_count": null,
   "metadata": {},
   "outputs": [],
   "source": [
    "plt.figure(figsize=(15,5))\n",
    "sns.lineplot(data=weather, x=\"forecastdate\", y=\"wind\", hue=\"location\")\n",
    "plt.xlabel(\"Time\")\n",
    "plt.ylabel(\"Wind Speed\")\n",
    "plt.title(\"Wind among cities\")"
   ]
  },
  {
   "cell_type": "markdown",
   "metadata": {},
   "source": [
    "## Registered Users Analysis"
   ]
  },
  {
   "cell_type": "code",
   "execution_count": null,
   "metadata": {},
   "outputs": [],
   "source": [
    "# Create new column age from year\n",
    "import datetime\n",
    "current_year = datetime.datetime.now().year #get current year\n",
    "\n",
    "faker['age'] = faker['year'].transform(lambda x: current_year - x + 1)\n",
    "faker.head()"
   ]
  },
  {
   "cell_type": "code",
   "execution_count": null,
   "metadata": {},
   "outputs": [],
   "source": [
    "# Get car color occurance\n",
    "\n",
    "plt.figure(figsize=(15,5))\n",
    "sns.countplot(x=faker[\"safe_color_name\"])"
   ]
  },
  {
   "cell_type": "code",
   "execution_count": null,
   "metadata": {},
   "outputs": [],
   "source": [
    "# Get age distribution\n",
    "faker.describe()"
   ]
  },
  {
   "cell_type": "code",
   "execution_count": null,
   "metadata": {},
   "outputs": [],
   "source": [
    "sns.boxplot(x=faker[\"age\"])"
   ]
  },
  {
   "cell_type": "markdown",
   "metadata": {},
   "source": [
    "## BTC and ETH Analysis"
   ]
  },
  {
   "cell_type": "code",
   "execution_count": null,
   "metadata": {},
   "outputs": [],
   "source": [
    "btc_df = binance[(binance.pair == \"BTCUSDT\")]\n",
    "eth_df = binance[(binance.pair == \"ETHUSDT\")]\n",
    "\n",
    "btc_df.head()"
   ]
  },
  {
   "cell_type": "code",
   "execution_count": null,
   "metadata": {},
   "outputs": [],
   "source": [
    "plt.figure(figsize=(15,5))\n",
    "sns.lineplot(data=btc_df, x=\"datetime\", y=\"close_price\")\n",
    "plt.xlabel(\"Time\")\n",
    "plt.ylabel(\"USD\")\n",
    "plt.title(\"BTC Price - 1m interval\")"
   ]
  },
  {
   "cell_type": "code",
   "execution_count": null,
   "metadata": {},
   "outputs": [],
   "source": [
    "plt.figure(figsize=(15,5))\n",
    "sns.lineplot(data=eth_df, x=\"datetime\", y=\"close_price\")\n",
    "plt.xlabel(\"Time\")\n",
    "plt.ylabel(\"USD\")\n",
    "plt.title(\"ETH Price - 1m interval\")"
   ]
  },
  {
   "cell_type": "code",
   "execution_count": null,
   "metadata": {},
   "outputs": [],
   "source": [
    "# Install once only\n",
    "\n",
    "# !pip install prophet"
   ]
  },
  {
   "cell_type": "code",
   "execution_count": null,
   "metadata": {},
   "outputs": [],
   "source": [
    "# Prophet to predict time-series price value \n",
    "from prophet import Prophet\n",
    "btc_prophet = btc_df[['datetime','close_price']]\n",
    "btc_prophet.columns = ['ds','y']\n",
    "eth_prophet = eth_df[['datetime','close_price']]\n",
    "eth_prophet.columns = ['ds','y']\n",
    "btc_prophet"
   ]
  },
  {
   "cell_type": "code",
   "execution_count": null,
   "metadata": {},
   "outputs": [],
   "source": [
    "mBTC = Prophet()\n",
    "mBTC.fit(btc_prophet)\n",
    "future = mBTC.make_future_dataframe(periods=60, freq= '1min') \n",
    "fcst = mBTC.predict(future)\n",
    "fig = mBTC.plot(fcst)"
   ]
  },
  {
   "cell_type": "code",
   "execution_count": null,
   "metadata": {},
   "outputs": [],
   "source": [
    "mETH = Prophet()\n",
    "mETH.fit(eth_prophet)\n",
    "future = mETH.make_future_dataframe(periods=60, freq= '1min') \n",
    "fcst = mETH.predict(future)\n",
    "fig = mETH.plot(fcst)"
   ]
  },
  {
   "cell_type": "markdown",
   "metadata": {},
   "source": [
    "From the model, we can observed that the current collected data points are still a few that the model cannot predict the future outcome in a smaller range. "
   ]
  }
 ],
 "metadata": {
  "kernelspec": {
   "display_name": "Python 3 (ipykernel)",
   "language": "python",
   "name": "python3"
  },
  "language_info": {
   "codemirror_mode": {
    "name": "ipython",
    "version": 3
   },
   "file_extension": ".py",
   "mimetype": "text/x-python",
   "name": "python",
   "nbconvert_exporter": "python",
   "pygments_lexer": "ipython3",
   "version": "3.9.14"
  },
  "vscode": {
   "interpreter": {
    "hash": "a665b5d41d17b532ea9890333293a1b812fa0b73c9c25c950b3cedf1bebd0438"
   }
  }
 },
 "nbformat": 4,
 "nbformat_minor": 4
}
